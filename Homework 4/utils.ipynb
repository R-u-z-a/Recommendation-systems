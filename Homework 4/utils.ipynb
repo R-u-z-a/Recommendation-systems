{
 "cells": [
  {
   "cell_type": "code",
   "execution_count": 1,
   "metadata": {},
   "outputs": [],
   "source": [
    "import pandas as pd\n",
    "import numpy as np"
   ]
  },
  {
   "cell_type": "code",
   "execution_count": 2,
   "metadata": {},
   "outputs": [],
   "source": [
    "def prefilter_items(data, take_n_popular=5000, item_features=None):\n",
    "    # Уберем не интересные для рекоммендаций категории (department)\n",
    "    if item_features is not None:\n",
    "        department_size = pd.DataFrame(item_features. \\\n",
    "                                       groupby('department')['item_id'].nunique(). \\\n",
    "                                       sort_values(ascending=False)).reset_index()\n",
    "\n",
    "        department_size.columns = ['department', 'n_items']\n",
    "        rare_departments = department_size[department_size['n_items'] < 150].department.tolist()\n",
    "        items_in_rare_departments = item_features[\n",
    "            item_features['department'].isin(rare_departments)].item_id.unique().tolist()\n",
    "\n",
    "        data = data[~data['item_id'].isin(items_in_rare_departments)]\n",
    "\n",
    "    # Уберем слишком дешевые товары (на них не заработаем). 1 покупка из рассылок стоит 60 руб.\n",
    "    data['price'] = data['sales_value'] / (np.maximum(data['quantity'], 1))\n",
    "    data = data[data['price'] > 2]\n",
    "\n",
    "    # Уберем слишком дорогие товарыs\n",
    "    data = data[data['price'] < 50]\n",
    "\n",
    "    # Возбмем топ по популярности\n",
    "    popularity = data.groupby('item_id')['quantity'].sum().reset_index()\n",
    "    popularity.rename(columns={'quantity': 'n_sold'}, inplace=True)\n",
    "\n",
    "    top = popularity.sort_values('n_sold', ascending=False).head(take_n_popular).item_id.tolist()\n",
    "\n",
    "    # Заведем фиктивный item_id (если юзер покупал товары из топ-5000, то он \"купил\" такой товар)\n",
    "    data.loc[~data['item_id'].isin(top), 'item_id'] = 999999\n",
    "\n",
    "\n",
    "    return data"
   ]
  },
  {
   "cell_type": "code",
   "execution_count": 3,
   "metadata": {},
   "outputs": [],
   "source": [
    "def postfilter_items(user_id, recommednations):\n",
    "    pass"
   ]
  }
 ],
 "metadata": {
  "kernelspec": {
   "display_name": "Python 3",
   "language": "python",
   "name": "python3"
  },
  "language_info": {
   "codemirror_mode": {
    "name": "ipython",
    "version": 3
   },
   "file_extension": ".py",
   "mimetype": "text/x-python",
   "name": "python",
   "nbconvert_exporter": "python",
   "pygments_lexer": "ipython3",
   "version": "3.10.2"
  },
  "orig_nbformat": 4,
  "vscode": {
   "interpreter": {
    "hash": "e0374bbc5b6e8830e1c7992d2b29930f5be5fce85401b20117ea791a8a6544f0"
   }
  }
 },
 "nbformat": 4,
 "nbformat_minor": 2
}
